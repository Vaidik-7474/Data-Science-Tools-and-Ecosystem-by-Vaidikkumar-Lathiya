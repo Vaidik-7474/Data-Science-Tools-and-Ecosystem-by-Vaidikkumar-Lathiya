{
 "cells": [
  {
   "cell_type": "markdown",
   "id": "5f6dca71-f006-4f60-b867-a6fb2c2a12e0",
   "metadata": {},
   "source": [
    "# Data Science Tools and Ecosystem"
   ]
  },
  {
   "cell_type": "markdown",
   "id": "7f8a24a4-f220-4c64-b0eb-0085c46f7e05",
   "metadata": {},
   "source": [
    "In this notebook, Data Science Tools and Ecosystem are summarized."
   ]
  },
  {
   "cell_type": "markdown",
   "id": "f9df5bec-5299-4c45-9c38-46ac3cab3b45",
   "metadata": {},
   "source": [
    "**Objectives:**\n",
    "+ List popular languages for Data Science\n",
    "+ List commonly used libraries for Data Science.\n",
    "+ Create a table of Data Science Tools.\n",
    "+ Evaluate arithmetic expressions in Python."
   ]
  },
  {
   "cell_type": "markdown",
   "id": "8cade506-a34f-4a8d-bc15-674b539ffd8f",
   "metadata": {},
   "source": [
    "Some of the popular languages that Data Scientists use are:\n",
    "1. Python\n",
    "2. R\n",
    "3. SQL\n",
    "4. Julia"
   ]
  },
  {
   "cell_type": "markdown",
   "id": "41d9b497-b1f8-42aa-a965-ba7bc99128c3",
   "metadata": {},
   "source": [
    "Some of the commonly used libraries used by Data Scientists include:\n",
    "1. Pandas\n",
    "2. NumPy\n",
    "3. SciKit-learn\n",
    "4. Matplotlib\n",
    "5. Seaborn\n",
    "6. Keras\n",
    "7. TensorFlow"
   ]
  },
  {
   "cell_type": "markdown",
   "id": "7d9ed351-3c96-4b14-9ab9-263e5d3039f4",
   "metadata": {},
   "source": [
    "| Data Science Tools |\n",
    "| ------------------ |\n",
    "| Apache Cassandra |\n",
    "| Apache Kafka |\n",
    "| Apache Superset |"
   ]
  },
  {
   "cell_type": "markdown",
   "id": "5a3d8052-d16f-4fd0-b52f-98d56280a7de",
   "metadata": {},
   "source": [
    "### Below are a few examples of evaluating arithmetic expressions in Python"
   ]
  },
  {
   "cell_type": "code",
   "execution_count": 1,
   "id": "d19e9126-cd82-46d0-92e0-ac625801f07b",
   "metadata": {},
   "outputs": [
    {
     "data": {
      "text/plain": [
       "17"
      ]
     },
     "execution_count": 1,
     "metadata": {},
     "output_type": "execute_result"
    }
   ],
   "source": [
    "# This a simple arithmetic expression to mutiply then add integers\n",
    "(3*4)+5"
   ]
  },
  {
   "cell_type": "code",
   "execution_count": 3,
   "id": "b0bad1db-af68-41e3-88a6-2f1afb8f6381",
   "metadata": {},
   "outputs": [
    {
     "data": {
      "text/plain": [
       "3.3333333333333335"
      ]
     },
     "execution_count": 3,
     "metadata": {},
     "output_type": "execute_result"
    }
   ],
   "source": [
    "# This will convert 200 minutes to hours by diving by 60\n",
    "200/60"
   ]
  },
  {
   "cell_type": "markdown",
   "id": "93bce3d6-3585-4569-bbb6-becae80ba5bc",
   "metadata": {},
   "source": [
    "## Author\n",
    "Vaidikkumar Lathiya"
   ]
  }
 ],
 "metadata": {
  "kernelspec": {
   "display_name": "Python 3 (ipykernel)",
   "language": "python",
   "name": "python3"
  },
  "language_info": {
   "codemirror_mode": {
    "name": "ipython",
    "version": 3
   },
   "file_extension": ".py",
   "mimetype": "text/x-python",
   "name": "python",
   "nbconvert_exporter": "python",
   "pygments_lexer": "ipython3",
   "version": "3.11.7"
  }
 },
 "nbformat": 4,
 "nbformat_minor": 5
}
